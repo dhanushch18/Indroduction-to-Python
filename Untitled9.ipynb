{
  "nbformat": 4,
  "nbformat_minor": 0,
  "metadata": {
    "colab": {
      "provenance": [],
      "authorship_tag": "ABX9TyNd+P2UF3EQX9BK4TjrTjtW",
      "include_colab_link": true
    },
    "kernelspec": {
      "name": "python3",
      "display_name": "Python 3"
    },
    "language_info": {
      "name": "python"
    }
  },
  "cells": [
    {
      "cell_type": "markdown",
      "metadata": {
        "id": "view-in-github",
        "colab_type": "text"
      },
      "source": [
        "<a href=\"https://colab.research.google.com/github/dhanushch18/Indroduction-to-Python/blob/main/Untitled9.ipynb\" target=\"_parent\"><img src=\"https://colab.research.google.com/assets/colab-badge.svg\" alt=\"Open In Colab\"/></a>"
      ]
    },
    {
      "cell_type": "code",
      "execution_count": 6,
      "metadata": {
        "colab": {
          "base_uri": "https://localhost:8080/"
        },
        "id": "yt7sBZ9I0_-a",
        "outputId": "e36d1abe-2bf4-4279-cbbf-bf231015cef2"
      },
      "outputs": [
        {
          "output_type": "stream",
          "name": "stdout",
          "text": [
            "*\n",
            "*\n",
            "*\n",
            "*\n",
            "*\n",
            "\n",
            "*\n",
            "*\n",
            "*\n",
            "*\n",
            "\n",
            "*\n",
            "*\n",
            "*\n",
            "\n",
            "*\n",
            "*\n",
            "\n",
            "*\n",
            "\n"
          ]
        }
      ],
      "source": [
        "for i in range (1,6):\n",
        "  for j in range (5,i-1,-1):\n",
        "    print(\"*\")\n",
        "  print()"
      ]
    },
    {
      "cell_type": "code",
      "source": [],
      "metadata": {
        "id": "s7cVeHqb1hMR"
      },
      "execution_count": null,
      "outputs": []
    },
    {
      "cell_type": "code",
      "source": [
        "for i in range (1,6):\n",
        "  for j in range (5,i-1,-1):\n",
        "    print (\"*\",end=\"\")\n",
        "print ()"
      ],
      "metadata": {
        "colab": {
          "base_uri": "https://localhost:8080/"
        },
        "id": "F7YjQ2cd16BR",
        "outputId": "99bf9c47-345c-4bc8-b5c6-d68a2e5da581"
      },
      "execution_count": 13,
      "outputs": [
        {
          "output_type": "stream",
          "name": "stdout",
          "text": [
            "***************\n"
          ]
        }
      ]
    },
    {
      "cell_type": "code",
      "source": [],
      "metadata": {
        "id": "vZ6EWVKy174W"
      },
      "execution_count": null,
      "outputs": []
    }
  ]
}