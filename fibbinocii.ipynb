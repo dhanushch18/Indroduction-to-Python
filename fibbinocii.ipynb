{
  "nbformat": 4,
  "nbformat_minor": 0,
  "metadata": {
    "colab": {
      "provenance": [],
      "authorship_tag": "ABX9TyMsQmHqkam8iAEeMnhSeMwM",
      "include_colab_link": true
    },
    "kernelspec": {
      "name": "python3",
      "display_name": "Python 3"
    },
    "language_info": {
      "name": "python"
    }
  },
  "cells": [
    {
      "cell_type": "markdown",
      "metadata": {
        "id": "view-in-github",
        "colab_type": "text"
      },
      "source": [
        "<a href=\"https://colab.research.google.com/github/dhanushch18/Indroduction-to-Python/blob/main/fibbinocii.ipynb\" target=\"_parent\"><img src=\"https://colab.research.google.com/assets/colab-badge.svg\" alt=\"Open In Colab\"/></a>"
      ]
    },
    {
      "cell_type": "code",
      "execution_count": 2,
      "metadata": {
        "colab": {
          "base_uri": "https://localhost:8080/"
        },
        "id": "aLvQYgqb4gfO",
        "outputId": "7d1bb7df-66a0-41a3-d433-7ace82120163"
      },
      "outputs": [
        {
          "output_type": "stream",
          "name": "stdout",
          "text": [
            "Enter the num:8\n",
            " 0\n",
            " 1\n",
            "  1\n",
            "  2\n",
            "  3\n",
            "  5\n",
            "  8\n",
            "  13\n"
          ]
        }
      ],
      "source": [
        "\n",
        "x=int(input(\"Enter the num:\"))\n",
        "a=0\n",
        "b=1\n",
        "if(x==1):\n",
        "    print(\" \",+a)\n",
        "else:\n",
        "    print(\"\",+a)\n",
        "    print(\"\",+b)\n",
        "for i in range (2,x):\n",
        "    c=a+b\n",
        "    a=b\n",
        "    b=c\n",
        "    print(\" \",+c)\n"
      ]
    }
  ]
}