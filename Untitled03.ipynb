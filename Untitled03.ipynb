{
  "nbformat": 4,
  "nbformat_minor": 0,
  "metadata": {
    "colab": {
      "provenance": [],
      "authorship_tag": "ABX9TyNhKM/O0ZwNSl5UD92JlEVx",
      "include_colab_link": true
    },
    "kernelspec": {
      "name": "python3",
      "display_name": "Python 3"
    },
    "language_info": {
      "name": "python"
    }
  },
  "cells": [
    {
      "cell_type": "markdown",
      "metadata": {
        "id": "view-in-github",
        "colab_type": "text"
      },
      "source": [
        "<a href=\"https://colab.research.google.com/github/dhanushch18/Indroduction-to-Python/blob/main/Untitled03.ipynb\" target=\"_parent\"><img src=\"https://colab.research.google.com/assets/colab-badge.svg\" alt=\"Open In Colab\"/></a>"
      ]
    },
    {
      "cell_type": "code",
      "execution_count": null,
      "metadata": {
        "id": "YNl3RHf8Azzq"
      },
      "outputs": [],
      "source": [
        "a=10\n",
        "b=10  "
      ]
    },
    {
      "cell_type": "code",
      "source": [
        "a=10\n",
        "b=20\n",
        "print(\"The no. of b is \"+str (b))"
      ],
      "metadata": {
        "colab": {
          "base_uri": "https://localhost:8080/"
        },
        "id": "XrfE4M1zYzNH",
        "outputId": "ac41e30c-9ac9-48a7-f15e-d6d55c3abee7"
      },
      "execution_count": null,
      "outputs": [
        {
          "output_type": "stream",
          "name": "stdout",
          "text": [
            "The no. of b is 20\n"
          ]
        }
      ]
    },
    {
      "cell_type": "code",
      "source": [
        "a = input(\"Enter a number\")\n",
        "b = 20\n",
        "print(\"The number is  \" + str(a))"
      ],
      "metadata": {
        "colab": {
          "base_uri": "https://localhost:8080/"
        },
        "id": "u3LLDZ4RaHSp",
        "outputId": "d3349de9-681b-42b5-b91f-0107e27fbf37"
      },
      "execution_count": null,
      "outputs": [
        {
          "output_type": "stream",
          "name": "stdout",
          "text": [
            "Enter a number17\n",
            "The number is  17\n"
          ]
        }
      ]
    },
    {
      "cell_type": "code",
      "source": [
        "a = input(\"Enter 2 numbers\")\n",
        "b = input()\n",
        "print(\"The numbers are  \" + str(a) + \" and \"+str (b))"
      ],
      "metadata": {
        "colab": {
          "base_uri": "https://localhost:8080/"
        },
        "id": "OG8ITAW9ae5d",
        "outputId": "7c787fbe-13b4-4569-b4c6-1c96f9a8f726"
      },
      "execution_count": null,
      "outputs": [
        {
          "output_type": "stream",
          "name": "stdout",
          "text": [
            "Enter 2 numbers1\n",
            "7\n",
            "The numbers are  1 and 7\n"
          ]
        }
      ]
    },
    {
      "cell_type": "code",
      "source": [
        "a = input(\"Enter 2 numbers\")\n",
        "b = input()\n",
        "print(\"The numbers are  \" + str(a) + \" and \"+str (b))\n",
        "\n",
        "sum=(int(a) + int(b))\n",
        "\n",
        "print(\"result =\" +str(sum))\n"
      ],
      "metadata": {
        "colab": {
          "base_uri": "https://localhost:8080/"
        },
        "id": "sbanJCp_dmQM",
        "outputId": "4114f307-a3bd-40b6-b8c3-724202bf9605"
      },
      "execution_count": null,
      "outputs": [
        {
          "output_type": "stream",
          "name": "stdout",
          "text": [
            "Enter 2 numbers2\n",
            "4\n",
            "The numbers are  2 and 4\n",
            "result =6\n"
          ]
        }
      ]
    },
    {
      "cell_type": "code",
      "source": [
        "a = int(input(\"Enter 3 numbers\"))\n",
        "b = int(input())\n",
        "c = int(input())\n",
        "average=(a+b+c)/3\n",
        "print(\"average is \"+str(average))\n"
      ],
      "metadata": {
        "id": "vITTEpuaezym",
        "colab": {
          "base_uri": "https://localhost:8080/"
        },
        "outputId": "eb0d9ff8-da03-43d4-b06c-75f4e8fc98d3"
      },
      "execution_count": 2,
      "outputs": [
        {
          "output_type": "stream",
          "name": "stdout",
          "text": [
            "Enter 3 numbers5\n",
            "6\n",
            "8\n",
            "average is 6.333333333333333\n"
          ]
        }
      ]
    },
    {
      "cell_type": "code",
      "source": [],
      "metadata": {
        "id": "1Rew63tdA9rP"
      },
      "execution_count": null,
      "outputs": []
    }
  ]
}