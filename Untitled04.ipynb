{
  "nbformat": 4,
  "nbformat_minor": 0,
  "metadata": {
    "colab": {
      "provenance": [],
      "authorship_tag": "ABX9TyNJfOFHOf2j6aVb6tsEUWDk",
      "include_colab_link": true
    },
    "kernelspec": {
      "name": "python3",
      "display_name": "Python 3"
    },
    "language_info": {
      "name": "python"
    }
  },
  "cells": [
    {
      "cell_type": "markdown",
      "metadata": {
        "id": "view-in-github",
        "colab_type": "text"
      },
      "source": [
        "<a href=\"https://colab.research.google.com/github/dhanushch18/Indroduction-to-Python/blob/main/Untitled04.ipynb\" target=\"_parent\"><img src=\"https://colab.research.google.com/assets/colab-badge.svg\" alt=\"Open In Colab\"/></a>"
      ]
    },
    {
      "cell_type": "code",
      "execution_count": 18,
      "metadata": {
        "colab": {
          "base_uri": "https://localhost:8080/"
        },
        "id": "MVELoONzuu99",
        "outputId": "1596e04c-956c-48fd-c45d-77b837e9e8cc"
      },
      "outputs": [
        {
          "output_type": "stream",
          "name": "stdout",
          "text": [
            "first num is 20second num is 10\n"
          ]
        }
      ],
      "source": [
        "#swapping\n",
        "\n",
        "a=10\n",
        "b=20\n",
        "\n",
        "d=a\n",
        "a=b\n",
        "b=d\n",
        "\n",
        "print(\"first num is \"  +str(a) + \"second num is \" +str(b))"
      ]
    },
    {
      "cell_type": "code",
      "source": [
        "#list\n",
        "\n",
        "name=\"dhanush\"\n",
        "print(name[5])"
      ],
      "metadata": {
        "colab": {
          "base_uri": "https://localhost:8080/"
        },
        "id": "oZOf7ex3vNcB",
        "outputId": "467e51f7-c4ab-4b8a-daf2-cabf1d5f5d2e"
      },
      "execution_count": 19,
      "outputs": [
        {
          "output_type": "stream",
          "name": "stdout",
          "text": [
            "s\n"
          ]
        }
      ]
    },
    {
      "cell_type": "code",
      "source": [
        "name=\"dhanush\"\n",
        "print(name[5])\n",
        "print(name)"
      ],
      "metadata": {
        "colab": {
          "base_uri": "https://localhost:8080/"
        },
        "id": "yUh7oHLZwra7",
        "outputId": "5d858657-4844-4e48-d638-021cc5321294"
      },
      "execution_count": 20,
      "outputs": [
        {
          "output_type": "stream",
          "name": "stdout",
          "text": [
            "s\n",
            "dhanush\n"
          ]
        }
      ]
    },
    {
      "cell_type": "code",
      "source": [
        "names=(\"ch\",\"17\",\"18\")\n",
        "\n",
        "print(names)"
      ],
      "metadata": {
        "colab": {
          "base_uri": "https://localhost:8080/"
        },
        "id": "C_VtFbfQxMA-",
        "outputId": "a0dedd94-0349-489d-9605-3f6a55176e73"
      },
      "execution_count": 21,
      "outputs": [
        {
          "output_type": "stream",
          "name": "stdout",
          "text": [
            "('ch', '17', '18')\n"
          ]
        }
      ]
    },
    {
      "cell_type": "code",
      "source": [],
      "metadata": {
        "id": "2mc2eGxvx67C"
      },
      "execution_count": 21,
      "outputs": []
    }
  ]
}